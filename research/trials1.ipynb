{
 "cells": [
  {
   "cell_type": "code",
   "execution_count": 1,
   "metadata": {},
   "outputs": [],
   "source": [
    "import os\n",
    "from dotenv import load_dotenv"
   ]
  },
  {
   "cell_type": "code",
   "execution_count": 2,
   "metadata": {},
   "outputs": [],
   "source": [
    "load_dotenv()\n",
    "GOOGLE_API_KEY= os.getenv(\"GOOGLE_API_KEY\")"
   ]
  },
  {
   "cell_type": "code",
   "execution_count": 3,
   "metadata": {},
   "outputs": [],
   "source": [
    "os.environ[\"GOOGLE_API_KEY\"] = GOOGLE_API_KEY"
   ]
  },
  {
   "cell_type": "code",
   "execution_count": 4,
   "metadata": {},
   "outputs": [],
   "source": [
    "from langchain.document_loaders import PyPDFLoader"
   ]
  },
  {
   "cell_type": "code",
   "execution_count": 5,
   "metadata": {},
   "outputs": [
    {
     "data": {
      "text/plain": [
       "'f:\\\\Generative_AI\\\\Interview_question_creator_project\\\\research'"
      ]
     },
     "execution_count": 5,
     "metadata": {},
     "output_type": "execute_result"
    }
   ],
   "source": [
    "%pwd"
   ]
  },
  {
   "cell_type": "code",
   "execution_count": 6,
   "metadata": {},
   "outputs": [
    {
     "name": "stdout",
     "output_type": "stream",
     "text": [
      "f:\\Generative_AI\\Interview_question_creator_project\n"
     ]
    }
   ],
   "source": [
    "%cd .."
   ]
  },
  {
   "cell_type": "code",
   "execution_count": 7,
   "metadata": {},
   "outputs": [],
   "source": [
    "file_path =\"F:\\Generative_AI\\Interview_question_creator_project\\data\\SDG.pdf\"\n",
    "loader = PyPDFLoader(file_path)\n",
    "data = loader.load()"
   ]
  },
  {
   "cell_type": "code",
   "execution_count": 8,
   "metadata": {},
   "outputs": [
    {
     "data": {
      "text/plain": [
       "[Document(page_content='', metadata={'source': 'F:\\\\Generative_AI\\\\Interview_question_creator_project\\\\data\\\\SDG.pdf', 'page': 0}),\n",
       " Document(page_content='', metadata={'source': 'F:\\\\Generative_AI\\\\Interview_question_creator_project\\\\data\\\\SDG.pdf', 'page': 1}),\n",
       " Document(page_content='IN THE YEAR 2015, LEADERS FROM 193 COUNTRIES OF THE WORLD \\nCAME TOGETHER TO FACE THE FUTURE.\\nAnd what they saw was daunting. Famines. Drought. Wars. Plagues. Poverty. \\nNot just in some faraway place, but in their own cities and towns and villages.\\nThey knew things didn’t have to be this way. They knew we had enough  \\nfood to feed the world, but that it wasn’t getting shared. They knew there \\nwere medicines for HIV and other diseases, but they cost a lot. They knew  \\nthat earthquakes and floods were inevitable, but that the high death  \\ntolls were not. \\nThey also knew that billions of people worldwide shared their hope for a \\nbetter future.\\nSo leaders from these countries created a plan called the Sustainable \\nDevelopment Goals (SDGs). This set of 17 goals imagines a future just 15 years \\noff that would be rid of poverty and hunger, and safe from the worst effects of \\nclimate change. It’s an ambitious plan. \\nBut there’s ample evidence that we can succeed. In the past 15 years, the \\ninternational community cut extreme poverty in half. \\nNow we can finish the job.\\nThe United Nations Development Programme (UNDP) is one of the leading \\norganizations working to fulfil the SDGs by the year 2030. Present in nearly \\n170 countries and territories, we help nations make the Goals a reality.  \\nWe also champion the Goals so that people everywhere know how to  \\ndo their part. \\nUNDP is proud to continue as a leader in this global movement.\\nLearn about the Sustainable Development Goals.  What’s your Goal? ', metadata={'source': 'F:\\\\Generative_AI\\\\Interview_question_creator_project\\\\data\\\\SDG.pdf', 'page': 2}),\n",
       " Document(page_content='END EXTREME POVERTY IN ALL FORMS  \\nBY 2030.\\nYes, it’s an ambitious goal—but we believe it can be done. In 2000, the \\nworld committed to halving the number of people living in extreme \\npoverty by the year 2015 and we met this goal. However, more than \\n800 million people around the world still live on less than $1.25 a day—\\nthat’s about the equivalent of the entire population of Europe living in \\nextreme poverty. Now it’s time to build on what we learned and end \\npoverty altogether. ', metadata={'source': 'F:\\\\Generative_AI\\\\Interview_question_creator_project\\\\data\\\\SDG.pdf', 'page': 3}),\n",
       " Document(page_content='END HUNGER, ACHIEVE FOOD SECURITY \\nAND IMPROVED NUTRITION AND PROMOTE \\nSUSTAINABLE AGRICUL TURE\\nIn the past 20 years, hunger has dropped by almost half. Many \\ncountries that used to suffer from famine and hunger can now \\nmeet the nutritional needs of their most vulnerable people. It’s an \\nincredible accomplishment. Now we can go further and end hunger \\nand malnutrition once and for all. That means doing things such as \\npromoting sustainable agriculture and supporting small farmers. It’s a tall \\norder. But for the sake of the nearly 1 out of every 9 people on earth who \\ngo to bed hungry every night, we’ve got to try. Imagine a world where \\neveryone has access to sufficient and nutritious food all year round. \\nTogether, we can make that a reality by 2030. ', metadata={'source': 'F:\\\\Generative_AI\\\\Interview_question_creator_project\\\\data\\\\SDG.pdf', 'page': 4}),\n",
       " Document(page_content='ENSURE HEAL THY LIVES AND PROMOTE \\nWELL-BEING FOR ALL AT ALL AGES\\nWe all know how important it is to be in good health. Our health affects \\neverything from how much we enjoy life to what work we can perform. \\nThat’s why there’s a Goal to make sure everyone has health coverage \\nand access to safe and effective medicines and vaccines. In the 25 \\nyears before the SDGs, we made big strides—preventable child deaths \\ndropped by more than half, and maternal mortality went down by \\nalmost as much. And yet some other numbers remain tragically high, like \\nthe fact that 6 million children die every year before their fifth birthday, \\nor that AIDS is the leading cause of death for adolescents in sub-Saharan \\nAfrica. We have the means to turn that around and make good health \\nmore than just a wish.', metadata={'source': 'F:\\\\Generative_AI\\\\Interview_question_creator_project\\\\data\\\\SDG.pdf', 'page': 5}),\n",
       " Document(page_content='ENSURE INCLUSIVE AND EQUITABLE QUALITY \\nEDUCATION AND PROMOTE LIFELONG \\nLEARNING OPPORTUNITIES FOR ALL  \\nFirst, the bad news on education. Poverty, armed conflict and other \\nemergencies keep many, many kids around the world out of school. In \\nfact, kids from the poorest households are four times more likely to be \\nout of school than those of the richest households. Now for some good \\nnews. Since 2000, there has been enormous progress on the goal to \\nprovide primary education to all children worldwide: the total enrolment \\nrate in developing regions has reached 91%. By measures in any school, \\nthat’s a good grade. Now, let’s get an even better grade for all kids, \\nand achieve the goal of universal primary and secondary education, \\naffordable vocational training, access to higher education and more.', metadata={'source': 'F:\\\\Generative_AI\\\\Interview_question_creator_project\\\\data\\\\SDG.pdf', 'page': 6}),\n",
       " Document(page_content='We can celebrate the great progress the world has made in becoming \\nmore prosperous and fair. But there’s a shadow to the celebration. In \\njust about every way, women and girls lag behind. There are still gross \\ninequalities in work and wages, lots of unpaid “women’s work” such as \\nchild care and domestic work, and discrimination in public decision-\\nmaking. But there are grounds for hope. More girls are in school now \\ncompared to in 2000. Most regions have reached gender parity in \\nprimary education. The percentage of women getting paid for their work \\nis on the rise. The Sustainable Development Goals aim to build on these \\nachievements to ensure that there is an end to discrimination against \\nwomen and girls everywhere.ACHIEVE GENDER EQUALITY AND  \\nEMPOWER ALL WOMEN AND GIRLS ', metadata={'source': 'F:\\\\Generative_AI\\\\Interview_question_creator_project\\\\data\\\\SDG.pdf', 'page': 7}),\n",
       " Document(page_content='Everyone on earth should have access to safe and affordable drinking \\nwater. That’s the goal for 2030. While many people take clean drinking \\nwater and sanitation for granted, many others don’t. Water scarcity \\naffects more than 40 percent of people around the world, and that \\nnumber is projected to go even higher as a result of climate change. \\nIf we continue the path we’re on, by 2050 at least one in four people \\nare likely to be affected by recurring water shortages. But we can take \\na new path—more international cooperation, protecting wetlands \\nand rivers, sharing water-treatment technologies—that leads to \\naccomplishing this Goal. ENSURE AVAILABILITY AND SUSTAINABLE \\nMANAGEMENT OF WATER AND SANITATION \\nFOR ALL  ', metadata={'source': 'F:\\\\Generative_AI\\\\Interview_question_creator_project\\\\data\\\\SDG.pdf', 'page': 8}),\n",
       " Document(page_content='ENSURE ACCESS TO AFFORDABLE, RELIABLE, \\nSUSTAINABLE AND MODERN ENERGY FOR \\nALL \\nBetween 1990 and 2010, the number of people with access to electricity \\nincreased by 1.7 billion. That’s progress to be proud of. And yet as the \\nworld’s population continues to rise, still more people will need cheap \\nenergy to light their homes and streets, use phones and computers, \\nand do their everyday business. How we get that energy is at issue; fossil \\nfuels and greenhouse gas emissions are making drastic changes in the \\nclimate, leading to big problems on every continent. Instead, we can \\nbecome more energy-efficient and invest in clean energy sources such \\nas solar and wind. That way we’ll meet electricity needs and protect the \\nenvironment. How’s that for a balancing act?', metadata={'source': 'F:\\\\Generative_AI\\\\Interview_question_creator_project\\\\data\\\\SDG.pdf', 'page': 9}),\n",
       " Document(page_content='PROMOTE SUSTAINED, INCLUSIVE AND \\nSUSTAINABLE ECONOMIC GROWTH, FULL \\nAND PRODUCTIVE EMPLOYMENT AND \\nDECENT WORK FOR ALL \\nAn important part of economic growth is that people have jobs that \\npay enough to support themselves and their families. The good news \\nis that the middle class is growing worldwide—almost tripling in size \\nin developing countries in the last 25 years, to more than a third of the \\npopulation. But today, job growth is not keeping pace with the growing \\nlabour force. Things don’t have to be that way. We can promote policies \\nthat encourage entrepreneurship and job creation. We can eradicate \\nforced labour, slavery and human trafficking. And in the end we can \\nachieve the goal of decent work for all women and men by 2030.', metadata={'source': 'F:\\\\Generative_AI\\\\Interview_question_creator_project\\\\data\\\\SDG.pdf', 'page': 10}),\n",
       " Document(page_content='BUILD RESILIENT INFRASTRUCTURE, \\nPROMOTE INCLUSIVE AND SUSTAINABLE \\nINDUSTRIALIZATION AND FOSTER \\nINNOVATION \\nTechnological progress helps us address big global challenges such as \\ncreating jobs and becoming more energy efficient. For example, the \\nworld is becoming ever more interconnected and prosperous thanks to \\nthe internet. The more connected we are, the more we can all benefit \\nfrom the wisdom and contributions of people everywhere on earth.  And \\nyet four billion people have no way of getting online, the vast majority \\nof them in developing countries. The more we invest in innovation \\nand infrastructure, the better off we’ll all be. Bridging the digital divide, \\npromoting sustainable industries, and investing in scientific research and \\ninnovation are all important ways to facilitate sustainable development.', metadata={'source': 'F:\\\\Generative_AI\\\\Interview_question_creator_project\\\\data\\\\SDG.pdf', 'page': 11}),\n",
       " Document(page_content='REDUCE INEQUALITY WITHIN AND AMONG \\nCOUNTRIES  \\nIt’s an old story: the rich get richer, and the poor get poorer. The divide \\nhas never been starker. We can and must adopt policies that create \\nopportunity for everyone, regardless of who they are or where they \\ncome from. Income inequality is a global problem that requires global \\nsolutions. That means improving the regulation of financial markets \\nand institutions, sending development aid where it is most needed \\nand helping people migrate safely so they can pursue opportunities. \\nTogether, we can now change the direction of the old story of inequality. ', metadata={'source': 'F:\\\\Generative_AI\\\\Interview_question_creator_project\\\\data\\\\SDG.pdf', 'page': 12}),\n",
       " Document(page_content='MAKE CITIES AND HUMAN SETTLEMENTS \\nINCLUSIVE, SAFE, RESILIENT AND \\nSUSTAINABLE \\nIf you’re like most people, you live in a city. More than half the world’s \\npopulation now lives in cities, and that figure will go to about two-thirds \\nof humanity by the year 2050. Cities are getting bigger. In 1990 there \\nwere ten “mega-cities” with 10 million inhabitants or more. In 2014, there \\nwere 28 mega-cities, home to 453 million people. Incredible, huh? A lot \\nof people love cities; they’re centers of culture and business and life. The \\nthing is, they’re also often centers of extreme poverty. To make cities \\nsustainable for all, we can create good, affordable public housing. We \\ncan upgrade slum settlements. We can invest in public transport, create \\ngreen spaces, and get a broader range of people involved in urban \\nplanning decisions. That way, we can keep the things we love about \\ncities, and change the things we don’t.', metadata={'source': 'F:\\\\Generative_AI\\\\Interview_question_creator_project\\\\data\\\\SDG.pdf', 'page': 13}),\n",
       " Document(page_content='ENSURE SUSTAINABLE CONSUMPTION AND \\nPRODUCTION PATTERNS\\nSome people use a lot of stuff, and some people use very little—in fact, \\na big share of the world population is consuming too little to meet even \\ntheir basic needs. Instead, we can have a world where everybody gets \\nwhat they need to survive and thrive. And we can consume in a way \\nthat preserves our natural resources so that our children can enjoy them, \\nand their children and their children after that. The hard part is how to \\nachieve that goal. We can manage our natural resources more efficiently \\nand dispose of toxic waste better. Cut per capita food waste in half \\nglobally. Get businesses and consumers to reduce and recycle waste. \\nAnd help countries that have typically not consumed a lot to move \\ntowards more responsible consumption patterns.', metadata={'source': 'F:\\\\Generative_AI\\\\Interview_question_creator_project\\\\data\\\\SDG.pdf', 'page': 14}),\n",
       " Document(page_content='TAKE URGENT ACTION TO COMBAT CLIMATE \\nCHANGE AND ITS IMPACTS\\nEvery country in the world is seeing the drastic effects of climate \\nchange, some more than others. On average, the annual losses just \\nfrom earthquakes, tsunamis, tropical cyclones and flooding count in the \\nhundreds of billions of dollars. We can reduce the loss of life and property \\nby helping more vulnerable regions—such as land-locked countries \\nand island states—become more resilient. It is still possible, with the \\npolitical will and technological measures, to limit the increase in global \\nmean temperature to two degrees Celsius above pre-industrial levels—\\nand thus avoid the worst effects of climate change. The Sustainable \\nDevelopment Goals lay out a way for countries to work together to meet \\nthis urgent challenge. ', metadata={'source': 'F:\\\\Generative_AI\\\\Interview_question_creator_project\\\\data\\\\SDG.pdf', 'page': 15}),\n",
       " Document(page_content='CONSERVE AND SUSTAINABLY USE THE \\nOCEANS, SEAS AND MARINE RESOURCES \\nFOR SUSTAINABLE DEVELOPMENT\\nThe oceans make human life possible. Their temperature, their chemistry, \\ntheir currents, their life forms. For one thing, more than 3 billion people \\ndepend on marine and coastal diversity for their livelihoods. But today \\nwe are seeing nearly a third of the world’s fish stocks overexploited. \\nThat’s not a sustainable way of life. Even people who live nowhere near \\nthe ocean can’t live without it. Oceans absorb about 30 percent of the \\ncarbon dioxide that humans produce; but we’re producing more carbon \\ndioxide than ever before and that makes the oceans more acidic—26% \\nmore, since the start of the industrial revolution. Our trash doesn’t help \\neither—13,000 pieces of plastic litter on every square kilometer of ocean. \\nSounds bad, right? Don’t despair! The Sustainable Development Goals \\nindicate targets for managing and protecting life below water. ', metadata={'source': 'F:\\\\Generative_AI\\\\Interview_question_creator_project\\\\data\\\\SDG.pdf', 'page': 16}),\n",
       " Document(page_content='PROTECT, RESTORE AND PROMOTE \\nSUSTAINABLE USE OF TERRESTRIAL \\nECOSYSTEMS, SUSTAINABLY MANAGE \\nFORESTS, COMBAT DESERTIFICATION, AND \\nHAL T AND REVERSE LAND DEGRADATION \\nAND HAL T BIODIVERSITY LOSS \\nHumans and other animals rely on other forms of life on land for food, \\nclean air, clean water, and as a means of combatting climate change. \\nPlant life makes up 80% of the human diet. Forests, which cover 30% \\nof the Earth’s surface, help keep the air and water clean and the Earth’s \\nclimate in balance. That’s not to mention they’re home to millions of \\nanimal species. But the land and life on it are in trouble. Arable land \\nis disappearing 30 to 35 times faster than it has historically. Deserts \\nare spreading. Animal breeds are going extinct. We can turn these \\ntrends around. Fortunately, the Sustainable Development Goals aim to \\nconserve and restore the use of terrestrial ecosystems such as forests, \\nwetlands, drylands and mountains by 2030. ', metadata={'source': 'F:\\\\Generative_AI\\\\Interview_question_creator_project\\\\data\\\\SDG.pdf', 'page': 17}),\n",
       " Document(page_content='PROMOTE PEACEFUL AND INCLUSIVE \\nSOCIETIES FOR SUSTAINABLE \\nDEVELOPMENT, PROVIDE ACCESS TO \\nJUSTICE FOR ALL AND BUILD EFFECTIVE, \\nACCOUNTABLE AND INCLUSIVE \\nINSTITUTIONS AT ALL LEVELS \\nHow can a country develop—how can people eat and teach and learn \\nand work and raise families—without peace? And how can a country \\nhave peace without justice, without human rights, without government \\nbased on the rule of law? Some parts of the world enjoy relative peace \\nand justice, and may come to take it for granted. Other parts seem to \\nbe plagued by armed conflict, crime, torture and exploitation, all of \\nwhich hinders their development. The goal of peace and justice is one \\nfor all countries to strive towards. The Sustainable Development Goals \\naim to reduce all forms of violence and propose that governments \\nand communities find lasting solutions to conflict and insecurity. That \\nmeans strengthening the rule of law, reducing the flow of illicit arms, \\nand bringing developing countries more into the center of institutions \\nof global governance.', metadata={'source': 'F:\\\\Generative_AI\\\\Interview_question_creator_project\\\\data\\\\SDG.pdf', 'page': 18}),\n",
       " Document(page_content='STRENGTHEN THE MEANS OF \\nIMPLEMENTATION AND REVITALIZE THE \\nGLOBAL PARTNERSHIP FOR SUSTAINABLE \\nDEVELOPMENT \\nThe Sustainable Development Goals are pretty big to-do list, don’t you \\nthink? In fact, it’s so big, you may just want to throw your hands up in the \\nair. “Forget it! Can’t be done! Why even try!” But we’ve got a lot going for \\nus. The world is more interconnected today than ever before, thanks to \\nthe internet, travel and global institutions. There’s a growing consensus \\nabout the need to work together to stop climate change. And the \\nSustainable Development Goals are no small matter either. 193 countries \\nagreed on these goals. Pretty incredible, isn’t it? 193 countries agreeing \\non anything? The final goal lays out a way for nations to work together to \\nachieve all the other Goals. ', metadata={'source': 'F:\\\\Generative_AI\\\\Interview_question_creator_project\\\\data\\\\SDG.pdf', 'page': 19}),\n",
       " Document(page_content='Go shopping  Make a donation  \\nStart a fundraiser  \\nSpread the word  Visit shop.undp.org for SDG merchandise, and show off the goals you’re \\nmost passionate about. Money doesn’t just make the world go around; it’s also the most direct \\nway to reduce and eradicate all forms of poverty.\\nFundraising is a great way to raise money, create awareness, and inspire \\nothers. Plus, it’s fun!\\nSearch for @UNDP on Twitter, Facebook and Instagram, and share the \\ncontent you love.\\nTo donate or learn more about fundraising, visit undp.org/takeactionThere are many ways to show your support and help us reach \\nthe Sustainable Development Goals by 2030. Here are a few :WHA T CAN  \\nI DO TO HELP?', metadata={'source': 'F:\\\\Generative_AI\\\\Interview_question_creator_project\\\\data\\\\SDG.pdf', 'page': 20}),\n",
       " Document(page_content='NOTES', metadata={'source': 'F:\\\\Generative_AI\\\\Interview_question_creator_project\\\\data\\\\SDG.pdf', 'page': 21}),\n",
       " Document(page_content='NOTES', metadata={'source': 'F:\\\\Generative_AI\\\\Interview_question_creator_project\\\\data\\\\SDG.pdf', 'page': 22}),\n",
       " Document(page_content='', metadata={'source': 'F:\\\\Generative_AI\\\\Interview_question_creator_project\\\\data\\\\SDG.pdf', 'page': 23})]"
      ]
     },
     "execution_count": 8,
     "metadata": {},
     "output_type": "execute_result"
    }
   ],
   "source": [
    "data"
   ]
  },
  {
   "cell_type": "code",
   "execution_count": 9,
   "metadata": {},
   "outputs": [
    {
     "data": {
      "text/plain": [
       "24"
      ]
     },
     "execution_count": 9,
     "metadata": {},
     "output_type": "execute_result"
    }
   ],
   "source": [
    "len(data)"
   ]
  },
  {
   "cell_type": "code",
   "execution_count": 10,
   "metadata": {},
   "outputs": [],
   "source": [
    "question_gen = \"\"\n",
    "\n",
    "for page in data:\n",
    "    question_gen += page.page_content"
   ]
  },
  {
   "cell_type": "code",
   "execution_count": 11,
   "metadata": {},
   "outputs": [],
   "source": [
    "from langchain.text_splitter import TokenTextSplitter"
   ]
  },
  {
   "cell_type": "code",
   "execution_count": 12,
   "metadata": {},
   "outputs": [],
   "source": [
    "splitter_ques_gen = TokenTextSplitter(\n",
    "    model_name= \"gpt2\",\n",
    "    chunk_size= 10000,\n",
    "    chunk_overlap = 200\n",
    ")"
   ]
  },
  {
   "cell_type": "code",
   "execution_count": 13,
   "metadata": {},
   "outputs": [],
   "source": [
    "chunk_ques_gen = splitter_ques_gen.split_text(question_gen)"
   ]
  },
  {
   "cell_type": "code",
   "execution_count": 14,
   "metadata": {},
   "outputs": [
    {
     "data": {
      "text/plain": [
       "1"
      ]
     },
     "execution_count": 14,
     "metadata": {},
     "output_type": "execute_result"
    }
   ],
   "source": [
    "len(chunk_ques_gen)"
   ]
  },
  {
   "cell_type": "code",
   "execution_count": 15,
   "metadata": {},
   "outputs": [],
   "source": [
    "from langchain.docstore.document import Document"
   ]
  },
  {
   "cell_type": "code",
   "execution_count": 16,
   "metadata": {},
   "outputs": [],
   "source": [
    "document_ques_gen = [Document(page_content = t) for t in chunk_ques_gen]"
   ]
  },
  {
   "cell_type": "code",
   "execution_count": 17,
   "metadata": {},
   "outputs": [],
   "source": [
    "splitter_ans_gen = TokenTextSplitter(\n",
    "    model_name = 'gpt2',\n",
    "    chunk_size = 1000,\n",
    "    chunk_overlap = 100\n",
    ")"
   ]
  },
  {
   "cell_type": "code",
   "execution_count": 18,
   "metadata": {},
   "outputs": [],
   "source": [
    "document_answer_gen = splitter_ans_gen.split_documents(\n",
    "    document_ques_gen\n",
    ")"
   ]
  },
  {
   "cell_type": "code",
   "execution_count": 19,
   "metadata": {},
   "outputs": [
    {
     "data": {
      "text/plain": [
       "5"
      ]
     },
     "execution_count": 19,
     "metadata": {},
     "output_type": "execute_result"
    }
   ],
   "source": [
    "len(document_answer_gen)"
   ]
  },
  {
   "cell_type": "code",
   "execution_count": 20,
   "metadata": {},
   "outputs": [
    {
     "name": "stderr",
     "output_type": "stream",
     "text": [
      "c:\\Users\\ROBERT\\anaconda3\\envs\\interview\\lib\\site-packages\\tqdm\\auto.py:21: TqdmWarning: IProgress not found. Please update jupyter and ipywidgets. See https://ipywidgets.readthedocs.io/en/stable/user_install.html\n",
      "  from .autonotebook import tqdm as notebook_tqdm\n"
     ]
    }
   ],
   "source": [
    "from langchain_google_genai import ChatGoogleGenerativeAI"
   ]
  },
  {
   "cell_type": "code",
   "execution_count": 21,
   "metadata": {},
   "outputs": [],
   "source": [
    "llm_ques_gen_pipeline = ChatGoogleGenerativeAI(\n",
    "    model = 'gemini-pro',\n",
    "    temperature = 0.3\n",
    ")\n"
   ]
  },
  {
   "cell_type": "code",
   "execution_count": 22,
   "metadata": {},
   "outputs": [],
   "source": [
    "prompt_template = \"\"\"\n",
    "You are an expert at creating questions based on coding materials and documentation.\n",
    "Your goal is to prepare a coder or programmer for their exam and coding tests.\n",
    "You do this by asking questions about the text below:\n",
    "\n",
    "------------\n",
    "{text}\n",
    "------------\n",
    "\n",
    "Create questions that will prepare the coders or programmers for their tests.\n",
    "Make sure not to lose any important information.\n",
    "\n",
    "QUESTIONS:\n",
    "\"\"\""
   ]
  },
  {
   "cell_type": "code",
   "execution_count": 23,
   "metadata": {},
   "outputs": [],
   "source": [
    "from langchain.prompts import PromptTemplate"
   ]
  },
  {
   "cell_type": "code",
   "execution_count": 24,
   "metadata": {},
   "outputs": [],
   "source": [
    "PROMPT_QUESTIONS = PromptTemplate(template=prompt_template, input_variables=['text'])"
   ]
  },
  {
   "cell_type": "code",
   "execution_count": 25,
   "metadata": {},
   "outputs": [],
   "source": [
    "refine_template = (\"\"\"\n",
    "You are an expert at creating practice questions based on coding material and documentation.\n",
    "Your goal is to help a coder or programmer prepare for a coding test.\n",
    "We have received some practice questions to a certain extent: {existing_answer}.\n",
    "We have the option to refine the existing questions or add new ones.\n",
    "(only if necessary) with some more context below.\n",
    "------------\n",
    "{text}\n",
    "------------\n",
    "\n",
    "Given the new context, refine the original questions in English.\n",
    "If the context is not helpful, please provide the original questions.\n",
    "QUESTIONS:\n",
    "\"\"\"\n",
    ")"
   ]
  },
  {
   "cell_type": "code",
   "execution_count": 26,
   "metadata": {},
   "outputs": [],
   "source": [
    "REFINE_PROMPT_QUESTIONS = PromptTemplate(\n",
    "    input_variables=[\"existing_answer\", \"text\"],\n",
    "    template=refine_template,\n",
    ")"
   ]
  },
  {
   "cell_type": "code",
   "execution_count": 27,
   "metadata": {},
   "outputs": [],
   "source": [
    "from langchain.chains.summarize import load_summarize_chain"
   ]
  },
  {
   "cell_type": "code",
   "execution_count": 28,
   "metadata": {},
   "outputs": [],
   "source": [
    "ques_gen_chain = load_summarize_chain(llm = llm_ques_gen_pipeline, \n",
    "                                          chain_type = \"refine\", \n",
    "                                          verbose = True, \n",
    "                                          question_prompt=PROMPT_QUESTIONS, \n",
    "                                          refine_prompt=REFINE_PROMPT_QUESTIONS)"
   ]
  },
  {
   "cell_type": "code",
   "execution_count": 29,
   "metadata": {},
   "outputs": [
    {
     "name": "stderr",
     "output_type": "stream",
     "text": [
      "c:\\Users\\ROBERT\\anaconda3\\envs\\interview\\lib\\site-packages\\langchain_core\\_api\\deprecation.py:139: LangChainDeprecationWarning: The method `Chain.run` was deprecated in langchain 0.1.0 and will be removed in 0.3.0. Use invoke instead.\n",
      "  warn_deprecated(\n"
     ]
    },
    {
     "name": "stdout",
     "output_type": "stream",
     "text": [
      "\n",
      "\n",
      "\u001b[1m> Entering new RefineDocumentsChain chain...\u001b[0m\n",
      "\n",
      "\n",
      "\u001b[1m> Entering new LLMChain chain...\u001b[0m\n",
      "Prompt after formatting:\n",
      "\u001b[32;1m\u001b[1;3m\n",
      "You are an expert at creating questions based on coding materials and documentation.\n",
      "Your goal is to prepare a coder or programmer for their exam and coding tests.\n",
      "You do this by asking questions about the text below:\n",
      "\n",
      "------------\n",
      "IN THE YEAR 2015, LEADERS FROM 193 COUNTRIES OF THE WORLD \n",
      "CAME TOGETHER TO FACE THE FUTURE.\n",
      "And what they saw was daunting. Famines. Drought. Wars. Plagues. Poverty. \n",
      "Not just in some faraway place, but in their own cities and towns and villages.\n",
      "They knew things didn’t have to be this way. They knew we had enough  \n",
      "food to feed the world, but that it wasn’t getting shared. They knew there \n",
      "were medicines for HIV and other diseases, but they cost a lot. They knew  \n",
      "that earthquakes and floods were inevitable, but that the high death  \n",
      "tolls were not. \n",
      "They also knew that billions of people worldwide shared their hope for a \n",
      "better future.\n",
      "So leaders from these countries created a plan called the Sustainable \n",
      "Development Goals (SDGs). This set of 17 goals imagines a future just 15 years \n",
      "off that would be rid of poverty and hunger, and safe from the worst effects of \n",
      "climate change. It’s an ambitious plan. \n",
      "But there’s ample evidence that we can succeed. In the past 15 years, the \n",
      "international community cut extreme poverty in half. \n",
      "Now we can finish the job.\n",
      "The United Nations Development Programme (UNDP) is one of the leading \n",
      "organizations working to fulfil the SDGs by the year 2030. Present in nearly \n",
      "170 countries and territories, we help nations make the Goals a reality.  \n",
      "We also champion the Goals so that people everywhere know how to  \n",
      "do their part. \n",
      "UNDP is proud to continue as a leader in this global movement.\n",
      "Learn about the Sustainable Development Goals.  What’s your Goal? END EXTREME POVERTY IN ALL FORMS  \n",
      "BY 2030.\n",
      "Yes, it’s an ambitious goal—but we believe it can be done. In 2000, the \n",
      "world committed to halving the number of people living in extreme \n",
      "poverty by the year 2015 and we met this goal. However, more than \n",
      "800 million people around the world still live on less than $1.25 a day—\n",
      "that’s about the equivalent of the entire population of Europe living in \n",
      "extreme poverty. Now it’s time to build on what we learned and end \n",
      "poverty altogether. END HUNGER, ACHIEVE FOOD SECURITY \n",
      "AND IMPROVED NUTRITION AND PROMOTE \n",
      "SUSTAINABLE AGRICUL TURE\n",
      "In the past 20 years, hunger has dropped by almost half. Many \n",
      "countries that used to suffer from famine and hunger can now \n",
      "meet the nutritional needs of their most vulnerable people. It’s an \n",
      "incredible accomplishment. Now we can go further and end hunger \n",
      "and malnutrition once and for all. That means doing things such as \n",
      "promoting sustainable agriculture and supporting small farmers. It’s a tall \n",
      "order. But for the sake of the nearly 1 out of every 9 people on earth who \n",
      "go to bed hungry every night, we’ve got to try. Imagine a world where \n",
      "everyone has access to sufficient and nutritious food all year round. \n",
      "Together, we can make that a reality by 2030. ENSURE HEAL THY LIVES AND PROMOTE \n",
      "WELL-BEING FOR ALL AT ALL AGES\n",
      "We all know how important it is to be in good health. Our health affects \n",
      "everything from how much we enjoy life to what work we can perform. \n",
      "That’s why there’s a Goal to make sure everyone has health coverage \n",
      "and access to safe and effective medicines and vaccines. In the 25 \n",
      "years before the SDGs, we made big strides—preventable child deaths \n",
      "dropped by more than half, and maternal mortality went down by \n",
      "almost as much. And yet some other numbers remain tragically high, like \n",
      "the fact that 6 million children die every year before their fifth birthday, \n",
      "or that AIDS is the leading cause of death for adolescents in sub-Saharan \n",
      "Africa. We have the means to turn that around and make good health \n",
      "more than just a wish.ENSURE INCLUSIVE AND EQUITABLE QUALITY \n",
      "EDUCATION AND PROMOTE LIFELONG \n",
      "LEARNING OPPORTUNITIES FOR ALL  \n",
      "First, the bad news on education. Poverty, armed conflict and other \n",
      "emergencies keep many, many kids around the world out of school. In \n",
      "fact, kids from the poorest households are four times more likely to be \n",
      "out of school than those of the richest households. Now for some good \n",
      "news. Since 2000, there has been enormous progress on the goal to \n",
      "provide primary education to all children worldwide: the total enrolment \n",
      "rate in developing regions has reached 91%. By measures in any school, \n",
      "that’s a good grade. Now, let’s get an even better grade for all kids, \n",
      "and achieve the goal of universal primary and secondary education, \n",
      "affordable vocational training, access to higher education and more.We can celebrate the great progress the world has made in becoming \n",
      "more prosperous and fair. But there’s a shadow to the celebration. In \n",
      "just about every way, women and girls lag behind. There are still gross \n",
      "inequalities in work and wages, lots of unpaid “women’s work” such as \n",
      "child care and domestic work, and discrimination in public decision-\n",
      "making. But there are grounds for hope. More girls are in school now \n",
      "compared to in 2000. Most regions have reached gender parity in \n",
      "primary education. The percentage of women getting paid for their work \n",
      "is on the rise. The Sustainable Development Goals aim to build on these \n",
      "achievements to ensure that there is an end to discrimination against \n",
      "women and girls everywhere.ACHIEVE GENDER EQUALITY AND  \n",
      "EMPOWER ALL WOMEN AND GIRLS Everyone on earth should have access to safe and affordable drinking \n",
      "water. That’s the goal for 2030. While many people take clean drinking \n",
      "water and sanitation for granted, many others don’t. Water scarcity \n",
      "affects more than 40 percent of people around the world, and that \n",
      "number is projected to go even higher as a result of climate change. \n",
      "If we continue the path we’re on, by 2050 at least one in four people \n",
      "are likely to be affected by recurring water shortages. But we can take \n",
      "a new path—more international cooperation, protecting wetlands \n",
      "and rivers, sharing water-treatment technologies—that leads to \n",
      "accomplishing this Goal. ENSURE AVAILABILITY AND SUSTAINABLE \n",
      "MANAGEMENT OF WATER AND SANITATION \n",
      "FOR ALL  ENSURE ACCESS TO AFFORDABLE, RELIABLE, \n",
      "SUSTAINABLE AND MODERN ENERGY FOR \n",
      "ALL \n",
      "Between 1990 and 2010, the number of people with access to electricity \n",
      "increased by 1.7 billion. That’s progress to be proud of. And yet as the \n",
      "world’s population continues to rise, still more people will need cheap \n",
      "energy to light their homes and streets, use phones and computers, \n",
      "and do their everyday business. How we get that energy is at issue; fossil \n",
      "fuels and greenhouse gas emissions are making drastic changes in the \n",
      "climate, leading to big problems on every continent. Instead, we can \n",
      "become more energy-efficient and invest in clean energy sources such \n",
      "as solar and wind. That way we’ll meet electricity needs and protect the \n",
      "environment. How’s that for a balancing act?PROMOTE SUSTAINED, INCLUSIVE AND \n",
      "SUSTAINABLE ECONOMIC GROWTH, FULL \n",
      "AND PRODUCTIVE EMPLOYMENT AND \n",
      "DECENT WORK FOR ALL \n",
      "An important part of economic growth is that people have jobs that \n",
      "pay enough to support themselves and their families. The good news \n",
      "is that the middle class is growing worldwide—almost tripling in size \n",
      "in developing countries in the last 25 years, to more than a third of the \n",
      "population. But today, job growth is not keeping pace with the growing \n",
      "labour force. Things don’t have to be that way. We can promote policies \n",
      "that encourage entrepreneurship and job creation. We can eradicate \n",
      "forced labour, slavery and human trafficking. And in the end we can \n",
      "achieve the goal of decent work for all women and men by 2030.BUILD RESILIENT INFRASTRUCTURE, \n",
      "PROMOTE INCLUSIVE AND SUSTAINABLE \n",
      "INDUSTRIALIZATION AND FOSTER \n",
      "INNOVATION \n",
      "Technological progress helps us address big global challenges such as \n",
      "creating jobs and becoming more energy efficient. For example, the \n",
      "world is becoming ever more interconnected and prosperous thanks to \n",
      "the internet. The more connected we are, the more we can all benefit \n",
      "from the wisdom and contributions of people everywhere on earth.  And \n",
      "yet four billion people have no way of getting online, the vast majority \n",
      "of them in developing countries. The more we invest in innovation \n",
      "and infrastructure, the better off we’ll all be. Bridging the digital divide, \n",
      "promoting sustainable industries, and investing in scientific research and \n",
      "innovation are all important ways to facilitate sustainable development.REDUCE INEQUALITY WITHIN AND AMONG \n",
      "COUNTRIES  \n",
      "It’s an old story: the rich get richer, and the poor get poorer. The divide \n",
      "has never been starker. We can and must adopt policies that create \n",
      "opportunity for everyone, regardless of who they are or where they \n",
      "come from. Income inequality is a global problem that requires global \n",
      "solutions. That means improving the regulation of financial markets \n",
      "and institutions, sending development aid where it is most needed \n",
      "and helping people migrate safely so they can pursue opportunities. \n",
      "Together, we can now change the direction of the old story of inequality. MAKE CITIES AND HUMAN SETTLEMENTS \n",
      "INCLUSIVE, SAFE, RESILIENT AND \n",
      "SUSTAINABLE \n",
      "If you’re like most people, you live in a city. More than half the world’s \n",
      "population now lives in cities, and that figure will go to about two-thirds \n",
      "of humanity by the year 2050. Cities are getting bigger. In 1990 there \n",
      "were ten “mega-cities” with 10 million inhabitants or more. In 2014, there \n",
      "were 28 mega-cities, home to 453 million people. Incredible, huh? A lot \n",
      "of people love cities; they’re centers of culture and business and life. The \n",
      "thing is, they’re also often centers of extreme poverty. To make cities \n",
      "sustainable for all, we can create good, affordable public housing. We \n",
      "can upgrade slum settlements. We can invest in public transport, create \n",
      "green spaces, and get a broader range of people involved in urban \n",
      "planning decisions. That way, we can keep the things we love about \n",
      "cities, and change the things we don’t.ENSURE SUSTAINABLE CONSUMPTION AND \n",
      "PRODUCTION PATTERNS\n",
      "Some people use a lot of stuff, and some people use very little—in fact, \n",
      "a big share of the world population is consuming too little to meet even \n",
      "their basic needs. Instead, we can have a world where everybody gets \n",
      "what they need to survive and thrive. And we can consume in a way \n",
      "that preserves our natural resources so that our children can enjoy them, \n",
      "and their children and their children after that. The hard part is how to \n",
      "achieve that goal. We can manage our natural resources more efficiently \n",
      "and dispose of toxic waste better. Cut per capita food waste in half \n",
      "globally. Get businesses and consumers to reduce and recycle waste. \n",
      "And help countries that have typically not consumed a lot to move \n",
      "towards more responsible consumption patterns.TAKE URGENT ACTION TO COMBAT CLIMATE \n",
      "CHANGE AND ITS IMPACTS\n",
      "Every country in the world is seeing the drastic effects of climate \n",
      "change, some more than others. On average, the annual losses just \n",
      "from earthquakes, tsunamis, tropical cyclones and flooding count in the \n",
      "hundreds of billions of dollars. We can reduce the loss of life and property \n",
      "by helping more vulnerable regions—such as land-locked countries \n",
      "and island states—become more resilient. It is still possible, with the \n",
      "political will and technological measures, to limit the increase in global \n",
      "mean temperature to two degrees Celsius above pre-industrial levels—\n",
      "and thus avoid the worst effects of climate change. The Sustainable \n",
      "Development Goals lay out a way for countries to work together to meet \n",
      "this urgent challenge. CONSERVE AND SUSTAINABLY USE THE \n",
      "OCEANS, SEAS AND MARINE RESOURCES \n",
      "FOR SUSTAINABLE DEVELOPMENT\n",
      "The oceans make human life possible. Their temperature, their chemistry, \n",
      "their currents, their life forms. For one thing, more than 3 billion people \n",
      "depend on marine and coastal diversity for their livelihoods. But today \n",
      "we are seeing nearly a third of the world’s fish stocks overexploited. \n",
      "That’s not a sustainable way of life. Even people who live nowhere near \n",
      "the ocean can’t live without it. Oceans absorb about 30 percent of the \n",
      "carbon dioxide that humans produce; but we’re producing more carbon \n",
      "dioxide than ever before and that makes the oceans more acidic—26% \n",
      "more, since the start of the industrial revolution. Our trash doesn’t help \n",
      "either—13,000 pieces of plastic litter on every square kilometer of ocean. \n",
      "Sounds bad, right? Don’t despair! The Sustainable Development Goals \n",
      "indicate targets for managing and protecting life below water. PROTECT, RESTORE AND PROMOTE \n",
      "SUSTAINABLE USE OF TERRESTRIAL \n",
      "ECOSYSTEMS, SUSTAINABLY MANAGE \n",
      "FORESTS, COMBAT DESERTIFICATION, AND \n",
      "HAL T AND REVERSE LAND DEGRADATION \n",
      "AND HAL T BIODIVERSITY LOSS \n",
      "Humans and other animals rely on other forms of life on land for food, \n",
      "clean air, clean water, and as a means of combatting climate change. \n",
      "Plant life makes up 80% of the human diet. Forests, which cover 30% \n",
      "of the Earth’s surface, help keep the air and water clean and the Earth’s \n",
      "climate in balance. That’s not to mention they’re home to millions of \n",
      "animal species. But the land and life on it are in trouble. Arable land \n",
      "is disappearing 30 to 35 times faster than it has historically. Deserts \n",
      "are spreading. Animal breeds are going extinct. We can turn these \n",
      "trends around. Fortunately, the Sustainable Development Goals aim to \n",
      "conserve and restore the use of terrestrial ecosystems such as forests, \n",
      "wetlands, drylands and mountains by 2030. PROMOTE PEACEFUL AND INCLUSIVE \n",
      "SOCIETIES FOR SUSTAINABLE \n",
      "DEVELOPMENT, PROVIDE ACCESS TO \n",
      "JUSTICE FOR ALL AND BUILD EFFECTIVE, \n",
      "ACCOUNTABLE AND INCLUSIVE \n",
      "INSTITUTIONS AT ALL LEVELS \n",
      "How can a country develop—how can people eat and teach and learn \n",
      "and work and raise families—without peace? And how can a country \n",
      "have peace without justice, without human rights, without government \n",
      "based on the rule of law? Some parts of the world enjoy relative peace \n",
      "and justice, and may come to take it for granted. Other parts seem to \n",
      "be plagued by armed conflict, crime, torture and exploitation, all of \n",
      "which hinders their development. The goal of peace and justice is one \n",
      "for all countries to strive towards. The Sustainable Development Goals \n",
      "aim to reduce all forms of violence and propose that governments \n",
      "and communities find lasting solutions to conflict and insecurity. That \n",
      "means strengthening the rule of law, reducing the flow of illicit arms, \n",
      "and bringing developing countries more into the center of institutions \n",
      "of global governance.STRENGTHEN THE MEANS OF \n",
      "IMPLEMENTATION AND REVITALIZE THE \n",
      "GLOBAL PARTNERSHIP FOR SUSTAINABLE \n",
      "DEVELOPMENT \n",
      "The Sustainable Development Goals are pretty big to-do list, don’t you \n",
      "think? In fact, it’s so big, you may just want to throw your hands up in the \n",
      "air. “Forget it! Can’t be done! Why even try!” But we’ve got a lot going for \n",
      "us. The world is more interconnected today than ever before, thanks to \n",
      "the internet, travel and global institutions. There’s a growing consensus \n",
      "about the need to work together to stop climate change. And the \n",
      "Sustainable Development Goals are no small matter either. 193 countries \n",
      "agreed on these goals. Pretty incredible, isn’t it? 193 countries agreeing \n",
      "on anything? The final goal lays out a way for nations to work together to \n",
      "achieve all the other Goals. Go shopping  Make a donation  \n",
      "Start a fundraiser  \n",
      "Spread the word  Visit shop.undp.org for SDG merchandise, and show off the goals you’re \n",
      "most passionate about. Money doesn’t just make the world go around; it’s also the most direct \n",
      "way to reduce and eradicate all forms of poverty.\n",
      "Fundraising is a great way to raise money, create awareness, and inspire \n",
      "others. Plus, it’s fun!\n",
      "Search for @UNDP on Twitter, Facebook and Instagram, and share the \n",
      "content you love.\n",
      "To donate or learn more about fundraising, visit undp.org/takeactionThere are many ways to show your support and help us reach \n",
      "the Sustainable Development Goals by 2030. Here are a few :WHA T CAN  \n",
      "I DO TO HELP?NOTESNOTES\n",
      "------------\n",
      "\n",
      "Create questions that will prepare the coders or programmers for their tests.\n",
      "Make sure not to lose any important information.\n",
      "\n",
      "QUESTIONS:\n",
      "\u001b[0m\n",
      "\n",
      "\u001b[1m> Finished chain.\u001b[0m\n",
      "\n",
      "\u001b[1m> Finished chain.\u001b[0m\n",
      "**Question 1:**\n",
      "\n",
      "What is the primary goal of the Sustainable Development Goals (SDGs)?\n",
      "\n",
      "**Question 2:**\n",
      "\n",
      "How many countries have agreed to the SDGs?\n",
      "\n",
      "**Question 3:**\n",
      "\n",
      "What is the target year for achieving the SDGs?\n",
      "\n",
      "**Question 4:**\n",
      "\n",
      "What is the current status of extreme poverty in the world?\n",
      "\n",
      "**Question 5:**\n",
      "\n",
      "What is the goal for hunger and malnutrition by 2030?\n",
      "\n",
      "**Question 6:**\n",
      "\n",
      "What is the leading cause of death for adolescents in sub-Saharan Africa?\n",
      "\n",
      "**Question 7:**\n",
      "\n",
      "What is the current enrolment rate in developing regions for primary education?\n",
      "\n",
      "**Question 8:**\n",
      "\n",
      "What is the main challenge in providing access to affordable, reliable energy for all?\n",
      "\n",
      "**Question 9:**\n",
      "\n",
      "What is the goal for reducing inequality within and among countries?\n",
      "\n",
      "**Question 10:**\n",
      "\n",
      "What is the estimated percentage of the world's population that will live in cities by 2050?\n",
      "\n",
      "**Question 11:**\n",
      "\n",
      "What is the target for reducing per capita food waste globally?\n",
      "\n",
      "**Question 12:**\n",
      "\n",
      "What is the goal for protecting and managing life below water?\n",
      "\n",
      "**Question 13:**\n",
      "\n",
      "What is the main threat to forests and other terrestrial ecosystems?\n",
      "\n",
      "**Question 14:**\n",
      "\n",
      "What is the goal for promoting peace and justice for sustainable development?\n",
      "\n",
      "**Question 15:**\n",
      "\n",
      "What is the final goal of the SDGs, and how does it aim to achieve the other goals?\n"
     ]
    }
   ],
   "source": [
    "ques = ques_gen_chain.run(document_ques_gen)\n",
    "\n",
    "print(ques)"
   ]
  },
  {
   "cell_type": "code",
   "execution_count": 30,
   "metadata": {},
   "outputs": [],
   "source": [
    "\n",
    "from langchain_google_genai import GoogleGenerativeAIEmbeddings"
   ]
  },
  {
   "cell_type": "code",
   "execution_count": 31,
   "metadata": {},
   "outputs": [],
   "source": [
    "embeddings = GoogleGenerativeAIEmbeddings(model=\"models/embedding-001\")"
   ]
  },
  {
   "cell_type": "code",
   "execution_count": 32,
   "metadata": {},
   "outputs": [],
   "source": [
    "from langchain.vectorstores import FAISS"
   ]
  },
  {
   "cell_type": "code",
   "execution_count": 33,
   "metadata": {},
   "outputs": [],
   "source": [
    "vector_store = FAISS.from_documents(document_answer_gen, embeddings)"
   ]
  },
  {
   "cell_type": "code",
   "execution_count": 34,
   "metadata": {},
   "outputs": [],
   "source": [
    "llm_answer_gen = ChatGoogleGenerativeAI(temperature=0.1, model=\"gemini-1.5-pro-latest\")"
   ]
  },
  {
   "cell_type": "code",
   "execution_count": 35,
   "metadata": {},
   "outputs": [
    {
     "data": {
      "text/plain": [
       "\"**Question 1:**\\n\\nWhat is the primary goal of the Sustainable Development Goals (SDGs)?\\n\\n**Question 2:**\\n\\nHow many countries have agreed to the SDGs?\\n\\n**Question 3:**\\n\\nWhat is the target year for achieving the SDGs?\\n\\n**Question 4:**\\n\\nWhat is the current status of extreme poverty in the world?\\n\\n**Question 5:**\\n\\nWhat is the goal for hunger and malnutrition by 2030?\\n\\n**Question 6:**\\n\\nWhat is the leading cause of death for adolescents in sub-Saharan Africa?\\n\\n**Question 7:**\\n\\nWhat is the current enrolment rate in developing regions for primary education?\\n\\n**Question 8:**\\n\\nWhat is the main challenge in providing access to affordable, reliable energy for all?\\n\\n**Question 9:**\\n\\nWhat is the goal for reducing inequality within and among countries?\\n\\n**Question 10:**\\n\\nWhat is the estimated percentage of the world's population that will live in cities by 2050?\\n\\n**Question 11:**\\n\\nWhat is the target for reducing per capita food waste globally?\\n\\n**Question 12:**\\n\\nWhat is the goal for protecting and managing life below water?\\n\\n**Question 13:**\\n\\nWhat is the main threat to forests and other terrestrial ecosystems?\\n\\n**Question 14:**\\n\\nWhat is the goal for promoting peace and justice for sustainable development?\\n\\n**Question 15:**\\n\\nWhat is the final goal of the SDGs, and how does it aim to achieve the other goals?\""
      ]
     },
     "execution_count": 35,
     "metadata": {},
     "output_type": "execute_result"
    }
   ],
   "source": [
    "ques"
   ]
  },
  {
   "cell_type": "code",
   "execution_count": 36,
   "metadata": {},
   "outputs": [],
   "source": [
    "ques_list = ques.split('\\n')"
   ]
  },
  {
   "cell_type": "code",
   "execution_count": 37,
   "metadata": {},
   "outputs": [
    {
     "data": {
      "text/plain": [
       "['**Question 1:**',\n",
       " '',\n",
       " 'What is the primary goal of the Sustainable Development Goals (SDGs)?',\n",
       " '',\n",
       " '**Question 2:**',\n",
       " '',\n",
       " 'How many countries have agreed to the SDGs?',\n",
       " '',\n",
       " '**Question 3:**',\n",
       " '',\n",
       " 'What is the target year for achieving the SDGs?',\n",
       " '',\n",
       " '**Question 4:**',\n",
       " '',\n",
       " 'What is the current status of extreme poverty in the world?',\n",
       " '',\n",
       " '**Question 5:**',\n",
       " '',\n",
       " 'What is the goal for hunger and malnutrition by 2030?',\n",
       " '',\n",
       " '**Question 6:**',\n",
       " '',\n",
       " 'What is the leading cause of death for adolescents in sub-Saharan Africa?',\n",
       " '',\n",
       " '**Question 7:**',\n",
       " '',\n",
       " 'What is the current enrolment rate in developing regions for primary education?',\n",
       " '',\n",
       " '**Question 8:**',\n",
       " '',\n",
       " 'What is the main challenge in providing access to affordable, reliable energy for all?',\n",
       " '',\n",
       " '**Question 9:**',\n",
       " '',\n",
       " 'What is the goal for reducing inequality within and among countries?',\n",
       " '',\n",
       " '**Question 10:**',\n",
       " '',\n",
       " \"What is the estimated percentage of the world's population that will live in cities by 2050?\",\n",
       " '',\n",
       " '**Question 11:**',\n",
       " '',\n",
       " 'What is the target for reducing per capita food waste globally?',\n",
       " '',\n",
       " '**Question 12:**',\n",
       " '',\n",
       " 'What is the goal for protecting and managing life below water?',\n",
       " '',\n",
       " '**Question 13:**',\n",
       " '',\n",
       " 'What is the main threat to forests and other terrestrial ecosystems?',\n",
       " '',\n",
       " '**Question 14:**',\n",
       " '',\n",
       " 'What is the goal for promoting peace and justice for sustainable development?',\n",
       " '',\n",
       " '**Question 15:**',\n",
       " '',\n",
       " 'What is the final goal of the SDGs, and how does it aim to achieve the other goals?']"
      ]
     },
     "execution_count": 37,
     "metadata": {},
     "output_type": "execute_result"
    }
   ],
   "source": [
    "ques_list"
   ]
  },
  {
   "cell_type": "code",
   "execution_count": 38,
   "metadata": {},
   "outputs": [],
   "source": [
    "from langchain.chains import RetrievalQA"
   ]
  },
  {
   "cell_type": "code",
   "execution_count": 39,
   "metadata": {},
   "outputs": [],
   "source": [
    "answer_generation_chain = RetrievalQA.from_chain_type(llm=llm_answer_gen, \n",
    "                                               chain_type=\"stuff\", \n",
    "                                               retriever=vector_store.as_retriever())"
   ]
  },
  {
   "cell_type": "code",
   "execution_count": 40,
   "metadata": {},
   "outputs": [
    {
     "name": "stdout",
     "output_type": "stream",
     "text": [
      "Question:  **Question 1:**\n",
      "Answer:  Please provide me with the first question. I am ready to answer it using the context you have provided. \n",
      "\n",
      "--------------------------------------------------\\n\\n\n",
      "Question:  \n",
      "Answer:  I'm sorry, but the provided text doesn't contain the answer to your question. Can you please provide me with the question you have? \n",
      "\n",
      "--------------------------------------------------\\n\\n\n",
      "Question:  What is the primary goal of the Sustainable Development Goals (SDGs)?\n",
      "Answer:  The primary goal of the Sustainable Development Goals (SDGs) is to rid the world of poverty and hunger, and to ensure safety from the worst effects of climate change by 2030. \n",
      "\n",
      "--------------------------------------------------\\n\\n\n",
      "Question:  \n"
     ]
    },
    {
     "name": "stderr",
     "output_type": "stream",
     "text": [
      "Retrying langchain_google_genai.chat_models._chat_with_retry.<locals>._chat_with_retry in 2.0 seconds as it raised ResourceExhausted: 429 Resource has been exhausted (e.g. check quota)..\n"
     ]
    },
    {
     "name": "stdout",
     "output_type": "stream",
     "text": [
      "Answer:  I'm sorry, but the provided text does not contain the answer to your question. Can you please provide me with the question you have? \n",
      "\n",
      "--------------------------------------------------\\n\\n\n",
      "Question:  **Question 2:**\n",
      "Answer:  Please provide me with the second question. I am ready to answer it using the context you have provided. \n",
      "\n",
      "--------------------------------------------------\\n\\n\n",
      "Question:  \n"
     ]
    },
    {
     "name": "stderr",
     "output_type": "stream",
     "text": [
      "Retrying langchain_google_genai.chat_models._chat_with_retry.<locals>._chat_with_retry in 2.0 seconds as it raised ResourceExhausted: 429 Resource has been exhausted (e.g. check quota)..\n",
      "Retrying langchain_google_genai.chat_models._chat_with_retry.<locals>._chat_with_retry in 4.0 seconds as it raised ResourceExhausted: 429 Resource has been exhausted (e.g. check quota)..\n",
      "Retrying langchain_google_genai.chat_models._chat_with_retry.<locals>._chat_with_retry in 8.0 seconds as it raised ResourceExhausted: 429 Resource has been exhausted (e.g. check quota)..\n",
      "Retrying langchain_google_genai.chat_models._chat_with_retry.<locals>._chat_with_retry in 16.0 seconds as it raised ResourceExhausted: 429 Resource has been exhausted (e.g. check quota)..\n",
      "Retrying langchain_google_genai.chat_models._chat_with_retry.<locals>._chat_with_retry in 32.0 seconds as it raised ResourceExhausted: 429 Resource has been exhausted (e.g. check quota)..\n"
     ]
    },
    {
     "name": "stdout",
     "output_type": "stream",
     "text": [
      "Answer:  I'm sorry, but the provided text does not contain the answer to your question. Can you please provide me with the question you have? \n",
      "\n",
      "--------------------------------------------------\\n\\n\n",
      "Question:  How many countries have agreed to the SDGs?\n",
      "Answer:  193 countries agreed on the Sustainable Development Goals. \n",
      "\n",
      "--------------------------------------------------\\n\\n\n",
      "Question:  \n",
      "Answer:  I'm sorry, but the provided text does not contain the answer to your question. Can you please provide me with the question you would like answered? \n",
      "\n",
      "--------------------------------------------------\\n\\n\n",
      "Question:  **Question 3:**\n",
      "Answer:  I'm sorry, but I need a full question to be able to provide an answer. Please provide the complete question. \n",
      "\n",
      "--------------------------------------------------\\n\\n\n",
      "Question:  \n"
     ]
    },
    {
     "name": "stderr",
     "output_type": "stream",
     "text": [
      "Retrying langchain_google_genai.chat_models._chat_with_retry.<locals>._chat_with_retry in 2.0 seconds as it raised ResourceExhausted: 429 Resource has been exhausted (e.g. check quota)..\n",
      "Retrying langchain_google_genai.chat_models._chat_with_retry.<locals>._chat_with_retry in 4.0 seconds as it raised ResourceExhausted: 429 Resource has been exhausted (e.g. check quota)..\n",
      "Retrying langchain_google_genai.chat_models._chat_with_retry.<locals>._chat_with_retry in 8.0 seconds as it raised ResourceExhausted: 429 Resource has been exhausted (e.g. check quota)..\n",
      "Retrying langchain_google_genai.chat_models._chat_with_retry.<locals>._chat_with_retry in 16.0 seconds as it raised ResourceExhausted: 429 Resource has been exhausted (e.g. check quota)..\n"
     ]
    },
    {
     "name": "stdout",
     "output_type": "stream",
     "text": [
      "Answer:  I'm sorry, but the provided text doesn't contain the answer to what the average annual losses are from earthquakes, tsunamis, tropical cyclones and flooding. \n",
      "\n",
      "--------------------------------------------------\\n\\n\n",
      "Question:  What is the target year for achieving the SDGs?\n"
     ]
    },
    {
     "name": "stderr",
     "output_type": "stream",
     "text": [
      "Retrying langchain_google_genai.chat_models._chat_with_retry.<locals>._chat_with_retry in 2.0 seconds as it raised ResourceExhausted: 429 Resource has been exhausted (e.g. check quota)..\n"
     ]
    },
    {
     "name": "stdout",
     "output_type": "stream",
     "text": [
      "Answer:  2030\n",
      "--------------------------------------------------\\n\\n\n",
      "Question:  \n",
      "Answer:  I'm sorry, but the provided text does not contain the answer to your question. It describes the Sustainable Development Goals and how the UNDP is working to achieve them. Please provide your question. \n",
      "\n",
      "--------------------------------------------------\\n\\n\n",
      "Question:  **Question 4:**\n",
      "Answer:  I'm sorry, but the provided text does not contain a Question 4 for me to answer. Please provide the full question. \n",
      "\n",
      "--------------------------------------------------\\n\\n\n",
      "Question:  \n",
      "Answer:  I'm sorry, but the provided text does not contain the answer to your question. Can you please provide me with the question you have? \n",
      "\n",
      "--------------------------------------------------\\n\\n\n",
      "Question:  What is the current status of extreme poverty in the world?\n"
     ]
    },
    {
     "name": "stderr",
     "output_type": "stream",
     "text": [
      "Retrying langchain_google_genai.chat_models._chat_with_retry.<locals>._chat_with_retry in 2.0 seconds as it raised ResourceExhausted: 429 Resource has been exhausted (e.g. check quota)..\n"
     ]
    },
    {
     "name": "stdout",
     "output_type": "stream",
     "text": [
      "Answer:  The provided text states that over 800 million people around the world still live on less than $1.25 a day, which was the benchmark for extreme poverty at the time. \n",
      "\n",
      "--------------------------------------------------\\n\\n\n",
      "Question:  \n"
     ]
    },
    {
     "name": "stderr",
     "output_type": "stream",
     "text": [
      "Retrying langchain_google_genai.chat_models._chat_with_retry.<locals>._chat_with_retry in 2.0 seconds as it raised ResourceExhausted: 429 Resource has been exhausted (e.g. check quota)..\n",
      "Retrying langchain_google_genai.chat_models._chat_with_retry.<locals>._chat_with_retry in 4.0 seconds as it raised ResourceExhausted: 429 Resource has been exhausted (e.g. check quota)..\n",
      "Retrying langchain_google_genai.chat_models._chat_with_retry.<locals>._chat_with_retry in 8.0 seconds as it raised ResourceExhausted: 429 Resource has been exhausted (e.g. check quota)..\n",
      "Retrying langchain_google_genai.chat_models._chat_with_retry.<locals>._chat_with_retry in 16.0 seconds as it raised ResourceExhausted: 429 Resource has been exhausted (e.g. check quota)..\n",
      "Retrying langchain_google_genai.chat_models._chat_with_retry.<locals>._chat_with_retry in 32.0 seconds as it raised ResourceExhausted: 429 Resource has been exhausted (e.g. check quota)..\n"
     ]
    },
    {
     "name": "stdout",
     "output_type": "stream",
     "text": [
      "Answer:  I'm sorry, but the provided text does not contain the answer to your question. Can you please provide me with the question you have? \n",
      "\n",
      "--------------------------------------------------\\n\\n\n",
      "Question:  **Question 5:**\n",
      "Answer:  I'm sorry, but the provided text does not contain a fifth question for me to answer. \n",
      "\n",
      "--------------------------------------------------\\n\\n\n",
      "Question:  \n",
      "Answer:  I'm sorry, but the provided text doesn't contain the answer to your question. Can you please provide me with the question you have? \n",
      "\n",
      "--------------------------------------------------\\n\\n\n",
      "Question:  What is the goal for hunger and malnutrition by 2030?\n",
      "Answer:  The goal for hunger and malnutrition by 2030 is to end hunger and malnutrition once and for all. \n",
      "\n",
      "--------------------------------------------------\\n\\n\n",
      "Question:  \n"
     ]
    },
    {
     "name": "stderr",
     "output_type": "stream",
     "text": [
      "Retrying langchain_google_genai.chat_models._chat_with_retry.<locals>._chat_with_retry in 2.0 seconds as it raised ResourceExhausted: 429 Resource has been exhausted (e.g. check quota)..\n",
      "Retrying langchain_google_genai.chat_models._chat_with_retry.<locals>._chat_with_retry in 4.0 seconds as it raised ResourceExhausted: 429 Resource has been exhausted (e.g. check quota)..\n"
     ]
    },
    {
     "name": "stdout",
     "output_type": "stream",
     "text": [
      "Answer:  I'm sorry, but the provided text does not contain the answer to your question. Can you please provide me with the question you would like answered? \n",
      "\n",
      "--------------------------------------------------\\n\\n\n",
      "Question:  **Question 6:**\n"
     ]
    },
    {
     "name": "stderr",
     "output_type": "stream",
     "text": [
      "Retrying langchain_google_genai.chat_models._chat_with_retry.<locals>._chat_with_retry in 2.0 seconds as it raised ResourceExhausted: 429 Resource has been exhausted (e.g. check quota)..\n",
      "Retrying langchain_google_genai.chat_models._chat_with_retry.<locals>._chat_with_retry in 4.0 seconds as it raised ResourceExhausted: 429 Resource has been exhausted (e.g. check quota)..\n",
      "Retrying langchain_google_genai.chat_models._chat_with_retry.<locals>._chat_with_retry in 8.0 seconds as it raised ResourceExhausted: 429 Resource has been exhausted (e.g. check quota)..\n",
      "Retrying langchain_google_genai.chat_models._chat_with_retry.<locals>._chat_with_retry in 16.0 seconds as it raised ResourceExhausted: 429 Resource has been exhausted (e.g. check quota)..\n"
     ]
    },
    {
     "name": "stdout",
     "output_type": "stream",
     "text": [
      "Answer:  I'm sorry, but the provided text does not contain a numbered list of questions. Therefore, I cannot answer what Question 6 is. \n",
      "\n",
      "--------------------------------------------------\\n\\n\n",
      "Question:  \n",
      "Answer:  I'm sorry, but the provided text does not contain the answer to your question. Can you please provide me with the question you have? \n",
      "\n",
      "--------------------------------------------------\\n\\n\n",
      "Question:  What is the leading cause of death for adolescents in sub-Saharan Africa?\n",
      "Answer:  \n",
      "--------------------------------------------------\\n\\n\n",
      "Question:  \n"
     ]
    },
    {
     "name": "stderr",
     "output_type": "stream",
     "text": [
      "Retrying langchain_google_genai.chat_models._chat_with_retry.<locals>._chat_with_retry in 2.0 seconds as it raised ResourceExhausted: 429 Resource has been exhausted (e.g. check quota)..\n",
      "Retrying langchain_google_genai.chat_models._chat_with_retry.<locals>._chat_with_retry in 4.0 seconds as it raised ResourceExhausted: 429 Resource has been exhausted (e.g. check quota)..\n"
     ]
    },
    {
     "name": "stdout",
     "output_type": "stream",
     "text": [
      "Answer:  I'm sorry, but the provided text doesn't contain the answer to your question. Can you please provide me with the question you have? \n",
      "\n",
      "--------------------------------------------------\\n\\n\n",
      "Question:  **Question 7:**\n"
     ]
    },
    {
     "name": "stderr",
     "output_type": "stream",
     "text": [
      "Retrying langchain_google_genai.chat_models._chat_with_retry.<locals>._chat_with_retry in 2.0 seconds as it raised ResourceExhausted: 429 Resource has been exhausted (e.g. check quota)..\n",
      "Retrying langchain_google_genai.chat_models._chat_with_retry.<locals>._chat_with_retry in 4.0 seconds as it raised ResourceExhausted: 429 Resource has been exhausted (e.g. check quota)..\n",
      "Retrying langchain_google_genai.chat_models._chat_with_retry.<locals>._chat_with_retry in 8.0 seconds as it raised ResourceExhausted: 429 Resource has been exhausted (e.g. check quota)..\n",
      "Retrying langchain_google_genai.chat_models._chat_with_retry.<locals>._chat_with_retry in 16.0 seconds as it raised ResourceExhausted: 429 Resource has been exhausted (e.g. check quota)..\n",
      "Retrying langchain_google_genai.chat_models._chat_with_retry.<locals>._chat_with_retry in 32.0 seconds as it raised ResourceExhausted: 429 Resource has been exhausted (e.g. check quota)..\n"
     ]
    },
    {
     "name": "stdout",
     "output_type": "stream",
     "text": [
      "Answer:  I'm sorry, but the provided text does not contain a seventh question for me to answer. \n",
      "\n",
      "--------------------------------------------------\\n\\n\n",
      "Question:  \n",
      "Answer:  I'm sorry, but the provided text doesn't contain the answer to your question. It describes the Sustainable Development Goals and how the UNDP is working towards them. Please provide your question so I can assist you. \n",
      "\n",
      "--------------------------------------------------\\n\\n\n",
      "Question:  What is the current enrolment rate in developing regions for primary education?\n",
      "Answer:  The current enrolment rate in developing regions for primary education is 91%. \n",
      "\n",
      "--------------------------------------------------\\n\\n\n",
      "Question:  \n"
     ]
    },
    {
     "name": "stderr",
     "output_type": "stream",
     "text": [
      "Retrying langchain_google_genai.chat_models._chat_with_retry.<locals>._chat_with_retry in 2.0 seconds as it raised ResourceExhausted: 429 Resource has been exhausted (e.g. check quota)..\n"
     ]
    },
    {
     "name": "stdout",
     "output_type": "stream",
     "text": [
      "Answer:  I'm sorry, but the provided text does not contain the answer to your question. It describes the Sustainable Development Goals and how the UNDP is working to achieve them. Please provide your question. \n",
      "\n",
      "--------------------------------------------------\\n\\n\n",
      "Question:  **Question 8:**\n"
     ]
    },
    {
     "name": "stderr",
     "output_type": "stream",
     "text": [
      "Retrying langchain_google_genai.chat_models._chat_with_retry.<locals>._chat_with_retry in 2.0 seconds as it raised ResourceExhausted: 429 Resource has been exhausted (e.g. check quota)..\n",
      "Retrying langchain_google_genai.chat_models._chat_with_retry.<locals>._chat_with_retry in 4.0 seconds as it raised ResourceExhausted: 429 Resource has been exhausted (e.g. check quota)..\n"
     ]
    },
    {
     "name": "stdout",
     "output_type": "stream",
     "text": [
      "Answer:  I'm sorry, but the provided text does not include a Question 8 for me to answer.  Please provide the question. \n",
      "\n",
      "--------------------------------------------------\\n\\n\n",
      "Question:  \n"
     ]
    },
    {
     "name": "stderr",
     "output_type": "stream",
     "text": [
      "Retrying langchain_google_genai.chat_models._chat_with_retry.<locals>._chat_with_retry in 2.0 seconds as it raised ResourceExhausted: 429 Resource has been exhausted (e.g. check quota)..\n",
      "Retrying langchain_google_genai.chat_models._chat_with_retry.<locals>._chat_with_retry in 4.0 seconds as it raised ResourceExhausted: 429 Resource has been exhausted (e.g. check quota)..\n",
      "Retrying langchain_google_genai.chat_models._chat_with_retry.<locals>._chat_with_retry in 8.0 seconds as it raised ResourceExhausted: 429 Resource has been exhausted (e.g. check quota)..\n"
     ]
    },
    {
     "name": "stdout",
     "output_type": "stream",
     "text": [
      "Answer:  I'm sorry, I can't answer that question based on the text provided. The text focuses on the Sustainable Development Goals and doesn't mention what the user's question is. \n",
      "\n",
      "--------------------------------------------------\\n\\n\n",
      "Question:  What is the main challenge in providing access to affordable, reliable energy for all?\n",
      "Answer:  The main challenge in providing access to affordable, reliable energy for all is balancing the growing need for cheap energy with the drastic climate changes caused by fossil fuels and greenhouse gas emissions. \n",
      "\n",
      "--------------------------------------------------\\n\\n\n",
      "Question:  \n",
      "Answer:  I'm sorry, but the provided text does not contain the answer to your question. Can you please provide me with the question you have? \n",
      "\n",
      "--------------------------------------------------\\n\\n\n",
      "Question:  **Question 9:**\n"
     ]
    },
    {
     "name": "stderr",
     "output_type": "stream",
     "text": [
      "Retrying langchain_google_genai.chat_models._chat_with_retry.<locals>._chat_with_retry in 2.0 seconds as it raised ResourceExhausted: 429 Resource has been exhausted (e.g. check quota)..\n"
     ]
    },
    {
     "name": "stdout",
     "output_type": "stream",
     "text": [
      "Answer:  The provided text does not contain a ninth question. \n",
      "\n",
      "--------------------------------------------------\\n\\n\n",
      "Question:  \n",
      "Answer:  I'm sorry, but the text does not provide a list of ways to show support and help reach the Sustainable Development Goals by 2030. However, it does suggest visiting the website undp.org/takeaction for more information. \n",
      "\n",
      "--------------------------------------------------\\n\\n\n",
      "Question:  What is the goal for reducing inequality within and among countries?\n"
     ]
    },
    {
     "name": "stderr",
     "output_type": "stream",
     "text": [
      "Retrying langchain_google_genai.chat_models._chat_with_retry.<locals>._chat_with_retry in 2.0 seconds as it raised ResourceExhausted: 429 Resource has been exhausted (e.g. check quota)..\n",
      "Retrying langchain_google_genai.chat_models._chat_with_retry.<locals>._chat_with_retry in 4.0 seconds as it raised ResourceExhausted: 429 Resource has been exhausted (e.g. check quota)..\n",
      "Retrying langchain_google_genai.chat_models._chat_with_retry.<locals>._chat_with_retry in 8.0 seconds as it raised ResourceExhausted: 429 Resource has been exhausted (e.g. check quota)..\n",
      "Retrying langchain_google_genai.chat_models._chat_with_retry.<locals>._chat_with_retry in 16.0 seconds as it raised ResourceExhausted: 429 Resource has been exhausted (e.g. check quota)..\n",
      "Retrying langchain_google_genai.chat_models._chat_with_retry.<locals>._chat_with_retry in 32.0 seconds as it raised ResourceExhausted: 429 Resource has been exhausted (e.g. check quota)..\n"
     ]
    },
    {
     "name": "stdout",
     "output_type": "stream",
     "text": [
      "Answer:  The goal for reducing inequality is to adopt policies that create opportunity for everyone, regardless of who they are or where they come from. This includes improving the regulation of financial markets, sending development aid where it is most needed, and helping people migrate safely to pursue opportunities. \n",
      "\n",
      "--------------------------------------------------\\n\\n\n",
      "Question:  \n",
      "Answer:  I'm sorry, but the provided text does not contain the answer to your question. Can you please provide me with the question you would like answered? \n",
      "\n",
      "--------------------------------------------------\\n\\n\n",
      "Question:  **Question 10:**\n",
      "Answer:  I'm sorry, but I need the context of a question to be able to answer it. Please provide me with Question 10. \n",
      "\n",
      "--------------------------------------------------\\n\\n\n",
      "Question:  \n",
      "Answer:  I'm sorry, but the provided text does not include the user's question. Please provide the question so I can assist you. \n",
      "\n",
      "--------------------------------------------------\\n\\n\n",
      "Question:  What is the estimated percentage of the world's population that will live in cities by 2050?\n",
      "Answer:  The estimated percentage of the world's population that will live in cities by 2050 is about two-thirds. \n",
      "\n",
      "--------------------------------------------------\\n\\n\n",
      "Question:  \n"
     ]
    },
    {
     "name": "stderr",
     "output_type": "stream",
     "text": [
      "Retrying langchain_google_genai.chat_models._chat_with_retry.<locals>._chat_with_retry in 2.0 seconds as it raised ResourceExhausted: 429 Resource has been exhausted (e.g. check quota)..\n",
      "Retrying langchain_google_genai.chat_models._chat_with_retry.<locals>._chat_with_retry in 4.0 seconds as it raised ResourceExhausted: 429 Resource has been exhausted (e.g. check quota)..\n",
      "Retrying langchain_google_genai.chat_models._chat_with_retry.<locals>._chat_with_retry in 8.0 seconds as it raised ResourceExhausted: 429 Resource has been exhausted (e.g. check quota)..\n",
      "Retrying langchain_google_genai.chat_models._chat_with_retry.<locals>._chat_with_retry in 16.0 seconds as it raised ResourceExhausted: 429 Resource has been exhausted (e.g. check quota)..\n"
     ]
    },
    {
     "name": "stdout",
     "output_type": "stream",
     "text": [
      "Answer:  I'm sorry, but the provided text does not contain the answer to your question. Can you please provide me with the question you have? \n",
      "\n",
      "--------------------------------------------------\\n\\n\n",
      "Question:  **Question 11:**\n",
      "Answer:  I'm sorry, but the provided text does not contain a Question 11 for me to answer. \n",
      "\n",
      "--------------------------------------------------\\n\\n\n",
      "Question:  \n",
      "Answer:  I'm sorry, but the provided text doesn't contain the answer to your question. Can you please provide me with the question you have? \n",
      "\n",
      "--------------------------------------------------\\n\\n\n",
      "Question:  What is the target for reducing per capita food waste globally?\n"
     ]
    },
    {
     "name": "stderr",
     "output_type": "stream",
     "text": [
      "Retrying langchain_google_genai.chat_models._chat_with_retry.<locals>._chat_with_retry in 2.0 seconds as it raised ResourceExhausted: 429 Resource has been exhausted (e.g. check quota)..\n"
     ]
    },
    {
     "name": "stdout",
     "output_type": "stream",
     "text": [
      "Answer:  Cut per capita food waste in half globally. \n",
      "\n",
      "--------------------------------------------------\\n\\n\n",
      "Question:  \n",
      "Answer:  I'm sorry, but the provided text doesn't contain the answer to your question. Can you please provide me with the question you have? \n",
      "\n",
      "--------------------------------------------------\\n\\n\n",
      "Question:  **Question 12:**\n"
     ]
    },
    {
     "name": "stderr",
     "output_type": "stream",
     "text": [
      "Retrying langchain_google_genai.chat_models._chat_with_retry.<locals>._chat_with_retry in 2.0 seconds as it raised ResourceExhausted: 429 Resource has been exhausted (e.g. check quota)..\n",
      "Retrying langchain_google_genai.chat_models._chat_with_retry.<locals>._chat_with_retry in 4.0 seconds as it raised ResourceExhausted: 429 Resource has been exhausted (e.g. check quota)..\n",
      "Retrying langchain_google_genai.chat_models._chat_with_retry.<locals>._chat_with_retry in 8.0 seconds as it raised ResourceExhausted: 429 Resource has been exhausted (e.g. check quota)..\n",
      "Retrying langchain_google_genai.chat_models._chat_with_retry.<locals>._chat_with_retry in 16.0 seconds as it raised ResourceExhausted: 429 Resource has been exhausted (e.g. check quota)..\n",
      "Retrying langchain_google_genai.chat_models._chat_with_retry.<locals>._chat_with_retry in 32.0 seconds as it raised ResourceExhausted: 429 Resource has been exhausted (e.g. check quota)..\n"
     ]
    },
    {
     "name": "stdout",
     "output_type": "stream",
     "text": [
      "Answer:  I'm sorry, but the provided text does not contain a 12th question for me to answer. Can you please provide the question? \n",
      "\n",
      "--------------------------------------------------\\n\\n\n",
      "Question:  \n",
      "Answer:  I'm sorry, but the provided text doesn't contain the answer to your question. Can you please provide me with the question you have? \n",
      "\n",
      "--------------------------------------------------\\n\\n\n",
      "Question:  What is the goal for protecting and managing life below water?\n",
      "Answer:  The Sustainable Development Goals indicate targets for managing and protecting life below water. \n",
      "\n",
      "--------------------------------------------------\\n\\n\n",
      "Question:  \n",
      "Answer:  I'm sorry, but the provided text doesn't contain the answer to your question. Can you please provide me with the question you have? \n",
      "\n",
      "--------------------------------------------------\\n\\n\n",
      "Question:  **Question 13:**\n",
      "Answer:  I'm sorry, but I cannot answer your question. This document does not have a numbered list of questions. \n",
      "--------------------------------------------------\\n\\n\n",
      "Question:  \n"
     ]
    },
    {
     "name": "stderr",
     "output_type": "stream",
     "text": [
      "Retrying langchain_google_genai.chat_models._chat_with_retry.<locals>._chat_with_retry in 2.0 seconds as it raised ResourceExhausted: 429 Resource has been exhausted (e.g. check quota)..\n",
      "Retrying langchain_google_genai.chat_models._chat_with_retry.<locals>._chat_with_retry in 4.0 seconds as it raised ResourceExhausted: 429 Resource has been exhausted (e.g. check quota)..\n",
      "Retrying langchain_google_genai.chat_models._chat_with_retry.<locals>._chat_with_retry in 8.0 seconds as it raised ResourceExhausted: 429 Resource has been exhausted (e.g. check quota)..\n",
      "Retrying langchain_google_genai.chat_models._chat_with_retry.<locals>._chat_with_retry in 16.0 seconds as it raised ResourceExhausted: 429 Resource has been exhausted (e.g. check quota)..\n"
     ]
    },
    {
     "name": "stdout",
     "output_type": "stream",
     "text": [
      "Answer:  I'm sorry, but the provided text doesn't contain the answer to your question. Can you please provide me with the question you have? \n",
      "\n",
      "--------------------------------------------------\\n\\n\n",
      "Question:  What is the main threat to forests and other terrestrial ecosystems?\n",
      "Answer:  The text states that arable land is disappearing 30 to 35 times faster than it has historically, deserts are spreading, and animal breeds are going extinct. It does not, however, explicitly state the main threat to forests and other terrestrial ecosystems. \n",
      "\n",
      "--------------------------------------------------\\n\\n\n",
      "Question:  \n",
      "Answer:  I'm sorry, but the provided text doesn't contain the answer to your question. Can you please provide the question you have? \n",
      "\n",
      "--------------------------------------------------\\n\\n\n",
      "Question:  **Question 14:**\n",
      "Answer:  I'm sorry, but the provided text does not contain a 14th question for me to answer. \n",
      "\n",
      "--------------------------------------------------\\n\\n\n",
      "Question:  \n"
     ]
    },
    {
     "name": "stderr",
     "output_type": "stream",
     "text": [
      "Retrying langchain_google_genai.chat_models._chat_with_retry.<locals>._chat_with_retry in 2.0 seconds as it raised ResourceExhausted: 429 Resource has been exhausted (e.g. check quota)..\n",
      "Retrying langchain_google_genai.chat_models._chat_with_retry.<locals>._chat_with_retry in 4.0 seconds as it raised ResourceExhausted: 429 Resource has been exhausted (e.g. check quota)..\n",
      "Retrying langchain_google_genai.chat_models._chat_with_retry.<locals>._chat_with_retry in 8.0 seconds as it raised ResourceExhausted: 429 Resource has been exhausted (e.g. check quota)..\n",
      "Retrying langchain_google_genai.chat_models._chat_with_retry.<locals>._chat_with_retry in 16.0 seconds as it raised ResourceExhausted: 429 Resource has been exhausted (e.g. check quota)..\n",
      "Retrying langchain_google_genai.chat_models._chat_with_retry.<locals>._chat_with_retry in 32.0 seconds as it raised ResourceExhausted: 429 Resource has been exhausted (e.g. check quota)..\n"
     ]
    },
    {
     "name": "stdout",
     "output_type": "stream",
     "text": [
      "Answer:  I'm sorry, but the provided text does not contain the answer to your question. Can you please provide me with your question? \n",
      "\n",
      "--------------------------------------------------\\n\\n\n",
      "Question:  What is the goal for promoting peace and justice for sustainable development?\n",
      "Answer:  The goal of peace and justice for sustainable development aims to reduce all forms of violence and proposes that governments and communities find lasting solutions to conflict and insecurity. This includes strengthening the rule of law, reducing the flow of illicit arms, and bringing developing countries more into the center of institutions of global governance. \n",
      "\n",
      "--------------------------------------------------\\n\\n\n",
      "Question:  \n",
      "Answer:  I'm sorry, but the provided text doesn't contain the answer to your question. It describes the Sustainable Development Goals but doesn't seem to include a specific question from a user. \n",
      "\n",
      "Please provide me with the user's question, and I'll do my best to answer it using the context. \n",
      "\n",
      "--------------------------------------------------\\n\\n\n",
      "Question:  **Question 15:**\n",
      "Answer:  I'm sorry, but the provided text does not contain a numbered list of questions. Therefore, I cannot answer what Question 15 is. \n",
      "\n",
      "--------------------------------------------------\\n\\n\n",
      "Question:  \n",
      "Answer:  I'm sorry, but the provided text doesn't contain the answer to your question. Can you please provide me with the question you have? \n",
      "\n",
      "--------------------------------------------------\\n\\n\n",
      "Question:  What is the final goal of the SDGs, and how does it aim to achieve the other goals?\n"
     ]
    },
    {
     "name": "stderr",
     "output_type": "stream",
     "text": [
      "Retrying langchain_google_genai.chat_models._chat_with_retry.<locals>._chat_with_retry in 2.0 seconds as it raised ResourceExhausted: 429 Resource has been exhausted (e.g. check quota)..\n",
      "Retrying langchain_google_genai.chat_models._chat_with_retry.<locals>._chat_with_retry in 4.0 seconds as it raised ResourceExhausted: 429 Resource has been exhausted (e.g. check quota)..\n",
      "Retrying langchain_google_genai.chat_models._chat_with_retry.<locals>._chat_with_retry in 8.0 seconds as it raised ResourceExhausted: 429 Resource has been exhausted (e.g. check quota)..\n",
      "Retrying langchain_google_genai.chat_models._chat_with_retry.<locals>._chat_with_retry in 16.0 seconds as it raised ResourceExhausted: 429 Resource has been exhausted (e.g. check quota)..\n"
     ]
    },
    {
     "name": "stdout",
     "output_type": "stream",
     "text": [
      "Answer:  The final goal of the SDGs is to **strengthen the means of implementation and revitalize the global partnership for sustainable development.**\n",
      "\n",
      "This goal aims to achieve the other goals by:\n",
      "\n",
      "* **Fostering international cooperation:**  It emphasizes the need for countries to work together, share resources, and support each other in achieving the SDGs.\n",
      "* **Promoting trade and technology transfer:**  It encourages developed countries to help developing countries access the technology and resources they need to achieve sustainable development.\n",
      "* **Mobilizing financial resources:** It calls for increased financial support from developed countries to developing countries to implement the SDGs.\n",
      "* **Improving data collection and monitoring:** It stresses the importance of tracking progress towards the SDGs and using data to inform policy decisions.\n",
      "\n",
      "Essentially, the final goal recognizes that achieving the SDGs requires a global effort and aims to create a framework for collaboration and mutual support among nations. \n",
      "\n",
      "--------------------------------------------------\\n\\n\n"
     ]
    }
   ],
   "source": [
    "# Answer each question and save to a file\n",
    "for question in ques_list:\n",
    "    print(\"Question: \", question)\n",
    "    answer = answer_generation_chain.run(question)\n",
    "    print(\"Answer: \", answer)\n",
    "    print(\"--------------------------------------------------\\\\n\\\\n\")\n",
    "    # Save answer to file\n",
    "    with open(\"answers.txt\", \"a\") as f:\n",
    "        f.write(\"Question: \" + question + \"\\\\n\")\n",
    "        f.write(\"Answer: \" + answer + \"\\\\n\")\n",
    "        f.write(\"--------------------------------------------------\\\\n\\\\n\")"
   ]
  },
  {
   "cell_type": "code",
   "execution_count": null,
   "metadata": {},
   "outputs": [],
   "source": []
  }
 ],
 "metadata": {
  "kernelspec": {
   "display_name": "interview",
   "language": "python",
   "name": "python3"
  },
  "language_info": {
   "codemirror_mode": {
    "name": "ipython",
    "version": 3
   },
   "file_extension": ".py",
   "mimetype": "text/x-python",
   "name": "python",
   "nbconvert_exporter": "python",
   "pygments_lexer": "ipython3",
   "version": "3.10.0"
  }
 },
 "nbformat": 4,
 "nbformat_minor": 2
}
